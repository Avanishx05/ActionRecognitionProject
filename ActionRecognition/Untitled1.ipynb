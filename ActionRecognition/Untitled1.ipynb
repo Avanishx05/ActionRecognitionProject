{
 "cells": [
  {
   "cell_type": "code",
   "execution_count": 1,
   "id": "c0d6ebd1",
   "metadata": {},
   "outputs": [
    {
     "name": "stdout",
     "output_type": "stream",
     "text": [
      "[[0.11112656 0.07782514 0.8020758  ... 0.18528682 0.05740855 0.5908531 ]\n",
      " [0.11112656 0.07782514 0.8020758  ... 0.18528682 0.05740855 0.5908531 ]\n",
      " [0.11112656 0.07782514 0.8020758  ... 0.18528682 0.05740855 0.5908531 ]\n",
      " ...\n",
      " [0.5524929  0.03256309 0.39005145 ... 0.02646423 0.22285461 0.21512814]\n",
      " [0.5524929  0.03256309 0.39005145 ... 0.02646423 0.22285461 0.21512814]\n",
      " [0.5524929  0.03256309 0.39005145 ... 0.02646423 0.22285461 0.21512814]]\n"
     ]
    }
   ],
   "source": [
    "import numpy as np\n",
    "\n",
    "# Specify the path to your .npy file\n",
    "file_path = 'resnext101-action-avgpool-300h/train.npy'\n",
    "\n",
    "# Load the array from the .npy file\n",
    "array = np.load(file_path)\n",
    "\n",
    "# Now `array` contains the data from the .npy file\n",
    "print(array)"
   ]
  },
  {
   "cell_type": "code",
   "execution_count": null,
   "id": "872b0a37",
   "metadata": {},
   "outputs": [],
   "source": []
  }
 ],
 "metadata": {
  "kernelspec": {
   "display_name": "Python 3 (ipykernel)",
   "language": "python",
   "name": "python3"
  },
  "language_info": {
   "codemirror_mode": {
    "name": "ipython",
    "version": 3
   },
   "file_extension": ".py",
   "mimetype": "text/x-python",
   "name": "python",
   "nbconvert_exporter": "python",
   "pygments_lexer": "ipython3",
   "version": "3.10.9"
  }
 },
 "nbformat": 4,
 "nbformat_minor": 5
}
